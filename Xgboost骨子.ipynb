{
 "cells": [
  {
   "cell_type": "markdown",
   "metadata": {
    "collapsed": true
   },
   "source": [
    "# XgBoostの理解"
   ]
  },
  {
   "cell_type": "markdown",
   "metadata": {},
   "source": [
    "https://www.kaggle.com/tqchen/understanding-xgboost-model-on-otto-data"
   ]
  },
  {
   "cell_type": "markdown",
   "metadata": {},
   "source": [
    "# １ introduction"
   ]
  },
  {
   "cell_type": "markdown",
   "metadata": {},
   "source": [
    "XgBoostは、gradient boosting alogorithmのひとつ。ブラックボックスのように表現されるが、数百、数千の決定木によってそのモデルは作られる。\n",
    "それを理解して使おう"
   ]
  },
  {
   "cell_type": "markdown",
   "metadata": {},
   "source": [
    "# 2　Preperation of the data (データの準備)"
   ]
  },
  {
   "cell_type": "code",
   "execution_count": 1,
   "metadata": {},
   "outputs": [
    {
     "name": "stderr",
     "output_type": "stream",
     "text": [
      "C:\\Users\\Mustang8\\Anaconda3\\lib\\site-packages\\sklearn\\cross_validation.py:44: DeprecationWarning: This module was deprecated in version 0.18 in favor of the model_selection module into which all the refactored classes and functions are moved. Also note that the interface of the new CV iterators are different from that of this module. This module will be removed in 0.20.\n",
      "  \"This module will be removed in 0.20.\", DeprecationWarning)\n",
      "C:\\Users\\Mustang8\\Anaconda3\\lib\\site-packages\\sklearn\\grid_search.py:43: DeprecationWarning: This module was deprecated in version 0.18 in favor of the model_selection module into which all the refactored classes and functions are moved. This module will be removed in 0.20.\n",
      "  DeprecationWarning)\n"
     ]
    }
   ],
   "source": [
    "from sklearn.datasets import make_blobs\n",
    "from sklearn.linear_model import LogisticRegression\n",
    "from sklearn.model_selection import train_test_split\n",
    "\n",
    "import math\n",
    "import pandas as pd\n",
    "import numpy as np\n",
    "import matplotlib.pyplot as plt\n",
    "\n",
    "from sklearn.linear_model import LogisticRegression\n",
    "from sklearn.model_selection import KFold\n",
    "import os\n",
    "from tempfile import mkstemp\n",
    "import subprocess\n",
    "from IPython.display import Image\n",
    "from IPython.core.display import display\n",
    "from sklearn.svm import SVC\n",
    "from sklearn.tree.export import export_graphviz\n",
    "from sklearn.model_selection import GridSearchCV\n",
    "\n",
    "import matplotlib.pyplot\n",
    "from xgboost.sklearn import XGBClassifier\n",
    "from sklearn import preprocessing\n",
    "from sklearn.preprocessing import Imputer\n",
    "from sklearn.feature_selection import VarianceThreshold\n",
    "from sklearn.feature_selection import SelectKBest\n",
    "from sklearn.feature_selection import f_classif\n",
    "from sklearn.grid_search import GridSearchCV\n",
    "from sklearn import cross_validation"
   ]
  },
  {
   "cell_type": "code",
   "execution_count": 3,
   "metadata": {
    "collapsed": true
   },
   "outputs": [],
   "source": [
    "import xgboost as xgb\n",
    "#xgboostの導入"
   ]
  },
  {
   "cell_type": "markdown",
   "metadata": {},
   "source": [
    "trainデータとtestデータの読み込み（csvファイル）"
   ]
  },
  {
   "cell_type": "code",
   "execution_count": 5,
   "metadata": {
    "collapsed": true
   },
   "outputs": [],
   "source": [
    "trainval = pd.read_csv(\"train.csv\")\n",
    "test = pd.read_csv ('test.csv')"
   ]
  },
  {
   "cell_type": "code",
   "execution_count": 7,
   "metadata": {},
   "outputs": [
    {
     "name": "stdout",
     "output_type": "stream",
     "text": [
      "(560000, 91)\n",
      "(361500, 89)\n"
     ]
    }
   ],
   "source": [
    "print(trainval.shape)\n",
    "print(test.shape)\n",
    "\n",
    "#trainvalとtestデータの次元"
   ]
  },
  {
   "cell_type": "code",
   "execution_count": 12,
   "metadata": {},
   "outputs": [
    {
     "data": {
      "text/html": [
       "<div>\n",
       "<style>\n",
       "    .dataframe thead tr:only-child th {\n",
       "        text-align: right;\n",
       "    }\n",
       "\n",
       "    .dataframe thead th {\n",
       "        text-align: left;\n",
       "    }\n",
       "\n",
       "    .dataframe tbody tr th {\n",
       "        vertical-align: top;\n",
       "    }\n",
       "</style>\n",
       "<table border=\"1\" class=\"dataframe\">\n",
       "  <thead>\n",
       "    <tr style=\"text-align: right;\">\n",
       "      <th></th>\n",
       "      <th>data_id</th>\n",
       "      <th>period</th>\n",
       "      <th>c1</th>\n",
       "      <th>c2</th>\n",
       "      <th>c3</th>\n",
       "      <th>c4</th>\n",
       "      <th>c5</th>\n",
       "      <th>c6</th>\n",
       "      <th>c7</th>\n",
       "      <th>c8</th>\n",
       "      <th>...</th>\n",
       "      <th>c80</th>\n",
       "      <th>c81</th>\n",
       "      <th>c82</th>\n",
       "      <th>c83</th>\n",
       "      <th>c84</th>\n",
       "      <th>c85</th>\n",
       "      <th>c86</th>\n",
       "      <th>c87</th>\n",
       "      <th>c88</th>\n",
       "      <th>target</th>\n",
       "    </tr>\n",
       "  </thead>\n",
       "  <tbody>\n",
       "    <tr>\n",
       "      <th>0</th>\n",
       "      <td>2</td>\n",
       "      <td>train1</td>\n",
       "      <td>0.655570</td>\n",
       "      <td>-0.000022</td>\n",
       "      <td>-0.000539</td>\n",
       "      <td>-0.001075</td>\n",
       "      <td>0.0</td>\n",
       "      <td>0.0</td>\n",
       "      <td>0.213390</td>\n",
       "      <td>0.0</td>\n",
       "      <td>...</td>\n",
       "      <td>-0.023358</td>\n",
       "      <td>-0.017041</td>\n",
       "      <td>0.0</td>\n",
       "      <td>0.060697</td>\n",
       "      <td>0.0</td>\n",
       "      <td>0.0</td>\n",
       "      <td>0.000000</td>\n",
       "      <td>-0.000202</td>\n",
       "      <td>-0.140220</td>\n",
       "      <td>1</td>\n",
       "    </tr>\n",
       "    <tr>\n",
       "      <th>1</th>\n",
       "      <td>3</td>\n",
       "      <td>train1</td>\n",
       "      <td>1.646430</td>\n",
       "      <td>-0.000292</td>\n",
       "      <td>-0.008367</td>\n",
       "      <td>0.009497</td>\n",
       "      <td>0.0</td>\n",
       "      <td>0.0</td>\n",
       "      <td>0.000000</td>\n",
       "      <td>0.0</td>\n",
       "      <td>...</td>\n",
       "      <td>-0.059429</td>\n",
       "      <td>-0.009109</td>\n",
       "      <td>0.0</td>\n",
       "      <td>0.021645</td>\n",
       "      <td>0.0</td>\n",
       "      <td>0.0</td>\n",
       "      <td>0.000000</td>\n",
       "      <td>-0.004382</td>\n",
       "      <td>0.455767</td>\n",
       "      <td>0</td>\n",
       "    </tr>\n",
       "    <tr>\n",
       "      <th>2</th>\n",
       "      <td>5</td>\n",
       "      <td>train1</td>\n",
       "      <td>-0.743010</td>\n",
       "      <td>0.004642</td>\n",
       "      <td>-0.000647</td>\n",
       "      <td>-0.003290</td>\n",
       "      <td>0.0</td>\n",
       "      <td>0.0</td>\n",
       "      <td>0.000000</td>\n",
       "      <td>0.0</td>\n",
       "      <td>...</td>\n",
       "      <td>0.001796</td>\n",
       "      <td>-0.000104</td>\n",
       "      <td>0.0</td>\n",
       "      <td>-0.024718</td>\n",
       "      <td>0.0</td>\n",
       "      <td>0.0</td>\n",
       "      <td>0.219566</td>\n",
       "      <td>0.072711</td>\n",
       "      <td>1.155580</td>\n",
       "      <td>0</td>\n",
       "    </tr>\n",
       "    <tr>\n",
       "      <th>3</th>\n",
       "      <td>7</td>\n",
       "      <td>train1</td>\n",
       "      <td>0.029770</td>\n",
       "      <td>-0.006343</td>\n",
       "      <td>-0.000635</td>\n",
       "      <td>-0.002516</td>\n",
       "      <td>0.0</td>\n",
       "      <td>0.0</td>\n",
       "      <td>0.160313</td>\n",
       "      <td>0.0</td>\n",
       "      <td>...</td>\n",
       "      <td>-0.005501</td>\n",
       "      <td>0.045308</td>\n",
       "      <td>0.0</td>\n",
       "      <td>-0.148852</td>\n",
       "      <td>0.0</td>\n",
       "      <td>0.0</td>\n",
       "      <td>0.000000</td>\n",
       "      <td>-0.101181</td>\n",
       "      <td>-0.954553</td>\n",
       "      <td>0</td>\n",
       "    </tr>\n",
       "    <tr>\n",
       "      <th>4</th>\n",
       "      <td>10</td>\n",
       "      <td>train1</td>\n",
       "      <td>-0.660243</td>\n",
       "      <td>0.012591</td>\n",
       "      <td>-0.002098</td>\n",
       "      <td>-0.022264</td>\n",
       "      <td>0.0</td>\n",
       "      <td>0.0</td>\n",
       "      <td>0.000000</td>\n",
       "      <td>0.0</td>\n",
       "      <td>...</td>\n",
       "      <td>0.029034</td>\n",
       "      <td>-0.005847</td>\n",
       "      <td>0.0</td>\n",
       "      <td>-0.007073</td>\n",
       "      <td>0.0</td>\n",
       "      <td>0.0</td>\n",
       "      <td>0.000000</td>\n",
       "      <td>-0.004842</td>\n",
       "      <td>0.436002</td>\n",
       "      <td>0</td>\n",
       "    </tr>\n",
       "  </tbody>\n",
       "</table>\n",
       "<p>5 rows × 91 columns</p>\n",
       "</div>"
      ],
      "text/plain": [
       "   data_id  period        c1        c2        c3        c4   c5   c6  \\\n",
       "0        2  train1  0.655570 -0.000022 -0.000539 -0.001075  0.0  0.0   \n",
       "1        3  train1  1.646430 -0.000292 -0.008367  0.009497  0.0  0.0   \n",
       "2        5  train1 -0.743010  0.004642 -0.000647 -0.003290  0.0  0.0   \n",
       "3        7  train1  0.029770 -0.006343 -0.000635 -0.002516  0.0  0.0   \n",
       "4       10  train1 -0.660243  0.012591 -0.002098 -0.022264  0.0  0.0   \n",
       "\n",
       "         c7   c8   ...         c80       c81  c82       c83  c84  c85  \\\n",
       "0  0.213390  0.0   ...   -0.023358 -0.017041  0.0  0.060697  0.0  0.0   \n",
       "1  0.000000  0.0   ...   -0.059429 -0.009109  0.0  0.021645  0.0  0.0   \n",
       "2  0.000000  0.0   ...    0.001796 -0.000104  0.0 -0.024718  0.0  0.0   \n",
       "3  0.160313  0.0   ...   -0.005501  0.045308  0.0 -0.148852  0.0  0.0   \n",
       "4  0.000000  0.0   ...    0.029034 -0.005847  0.0 -0.007073  0.0  0.0   \n",
       "\n",
       "        c86       c87       c88  target  \n",
       "0  0.000000 -0.000202 -0.140220       1  \n",
       "1  0.000000 -0.004382  0.455767       0  \n",
       "2  0.219566  0.072711  1.155580       0  \n",
       "3  0.000000 -0.101181 -0.954553       0  \n",
       "4  0.000000 -0.004842  0.436002       0  \n",
       "\n",
       "[5 rows x 91 columns]"
      ]
     },
     "execution_count": 12,
     "metadata": {},
     "output_type": "execute_result"
    }
   ],
   "source": [
    "trainval.head(5)"
   ]
  },
  {
   "cell_type": "code",
   "execution_count": 13,
   "metadata": {},
   "outputs": [
    {
     "data": {
      "text/html": [
       "<div>\n",
       "<style>\n",
       "    .dataframe thead tr:only-child th {\n",
       "        text-align: right;\n",
       "    }\n",
       "\n",
       "    .dataframe thead th {\n",
       "        text-align: left;\n",
       "    }\n",
       "\n",
       "    .dataframe tbody tr th {\n",
       "        vertical-align: top;\n",
       "    }\n",
       "</style>\n",
       "<table border=\"1\" class=\"dataframe\">\n",
       "  <thead>\n",
       "    <tr style=\"text-align: right;\">\n",
       "      <th></th>\n",
       "      <th>data_id</th>\n",
       "      <th>c1</th>\n",
       "      <th>c2</th>\n",
       "      <th>c3</th>\n",
       "      <th>c4</th>\n",
       "      <th>c5</th>\n",
       "      <th>c6</th>\n",
       "      <th>c7</th>\n",
       "      <th>c8</th>\n",
       "      <th>c9</th>\n",
       "      <th>...</th>\n",
       "      <th>c79</th>\n",
       "      <th>c80</th>\n",
       "      <th>c81</th>\n",
       "      <th>c82</th>\n",
       "      <th>c83</th>\n",
       "      <th>c84</th>\n",
       "      <th>c85</th>\n",
       "      <th>c86</th>\n",
       "      <th>c87</th>\n",
       "      <th>c88</th>\n",
       "    </tr>\n",
       "  </thead>\n",
       "  <tbody>\n",
       "    <tr>\n",
       "      <th>0</th>\n",
       "      <td>1466096</td>\n",
       "      <td>-0.336471</td>\n",
       "      <td>0.001629</td>\n",
       "      <td>-0.005328</td>\n",
       "      <td>0.337606</td>\n",
       "      <td>0.0</td>\n",
       "      <td>0.0</td>\n",
       "      <td>0.0</td>\n",
       "      <td>0.0</td>\n",
       "      <td>0.000779</td>\n",
       "      <td>...</td>\n",
       "      <td>0.078639</td>\n",
       "      <td>-0.121671</td>\n",
       "      <td>-0.007804</td>\n",
       "      <td>0.0</td>\n",
       "      <td>-0.261070</td>\n",
       "      <td>0.0</td>\n",
       "      <td>0.0</td>\n",
       "      <td>0.0</td>\n",
       "      <td>-0.002886</td>\n",
       "      <td>-0.999901</td>\n",
       "    </tr>\n",
       "    <tr>\n",
       "      <th>1</th>\n",
       "      <td>1466102</td>\n",
       "      <td>0.023397</td>\n",
       "      <td>0.010739</td>\n",
       "      <td>-0.035836</td>\n",
       "      <td>-0.017537</td>\n",
       "      <td>0.0</td>\n",
       "      <td>0.0</td>\n",
       "      <td>0.0</td>\n",
       "      <td>0.0</td>\n",
       "      <td>-0.003914</td>\n",
       "      <td>...</td>\n",
       "      <td>0.006190</td>\n",
       "      <td>0.071016</td>\n",
       "      <td>-0.008752</td>\n",
       "      <td>0.0</td>\n",
       "      <td>0.072960</td>\n",
       "      <td>0.0</td>\n",
       "      <td>0.0</td>\n",
       "      <td>0.0</td>\n",
       "      <td>-0.043107</td>\n",
       "      <td>1.056089</td>\n",
       "    </tr>\n",
       "    <tr>\n",
       "      <th>2</th>\n",
       "      <td>1466110</td>\n",
       "      <td>0.050958</td>\n",
       "      <td>0.012048</td>\n",
       "      <td>-0.004990</td>\n",
       "      <td>0.020966</td>\n",
       "      <td>-0.0</td>\n",
       "      <td>0.0</td>\n",
       "      <td>0.0</td>\n",
       "      <td>0.0</td>\n",
       "      <td>0.016245</td>\n",
       "      <td>...</td>\n",
       "      <td>-0.022399</td>\n",
       "      <td>-0.015489</td>\n",
       "      <td>-0.025594</td>\n",
       "      <td>0.0</td>\n",
       "      <td>0.046554</td>\n",
       "      <td>0.0</td>\n",
       "      <td>0.0</td>\n",
       "      <td>0.0</td>\n",
       "      <td>0.322360</td>\n",
       "      <td>1.506708</td>\n",
       "    </tr>\n",
       "    <tr>\n",
       "      <th>3</th>\n",
       "      <td>1466113</td>\n",
       "      <td>-0.123669</td>\n",
       "      <td>0.082726</td>\n",
       "      <td>-0.019575</td>\n",
       "      <td>0.000084</td>\n",
       "      <td>0.0</td>\n",
       "      <td>0.0</td>\n",
       "      <td>0.0</td>\n",
       "      <td>0.0</td>\n",
       "      <td>0.006868</td>\n",
       "      <td>...</td>\n",
       "      <td>0.004039</td>\n",
       "      <td>-0.086416</td>\n",
       "      <td>-0.002464</td>\n",
       "      <td>0.0</td>\n",
       "      <td>0.004583</td>\n",
       "      <td>0.0</td>\n",
       "      <td>0.0</td>\n",
       "      <td>0.0</td>\n",
       "      <td>0.022171</td>\n",
       "      <td>0.653286</td>\n",
       "    </tr>\n",
       "    <tr>\n",
       "      <th>4</th>\n",
       "      <td>1466115</td>\n",
       "      <td>1.596477</td>\n",
       "      <td>0.035155</td>\n",
       "      <td>-0.000731</td>\n",
       "      <td>0.028250</td>\n",
       "      <td>0.0</td>\n",
       "      <td>0.0</td>\n",
       "      <td>0.0</td>\n",
       "      <td>0.0</td>\n",
       "      <td>-0.025400</td>\n",
       "      <td>...</td>\n",
       "      <td>-0.056909</td>\n",
       "      <td>0.006886</td>\n",
       "      <td>-0.001491</td>\n",
       "      <td>0.0</td>\n",
       "      <td>0.082378</td>\n",
       "      <td>0.0</td>\n",
       "      <td>0.0</td>\n",
       "      <td>0.0</td>\n",
       "      <td>0.005997</td>\n",
       "      <td>-0.309680</td>\n",
       "    </tr>\n",
       "  </tbody>\n",
       "</table>\n",
       "<p>5 rows × 89 columns</p>\n",
       "</div>"
      ],
      "text/plain": [
       "   data_id        c1        c2        c3        c4   c5   c6   c7   c8  \\\n",
       "0  1466096 -0.336471  0.001629 -0.005328  0.337606  0.0  0.0  0.0  0.0   \n",
       "1  1466102  0.023397  0.010739 -0.035836 -0.017537  0.0  0.0  0.0  0.0   \n",
       "2  1466110  0.050958  0.012048 -0.004990  0.020966 -0.0  0.0  0.0  0.0   \n",
       "3  1466113 -0.123669  0.082726 -0.019575  0.000084  0.0  0.0  0.0  0.0   \n",
       "4  1466115  1.596477  0.035155 -0.000731  0.028250  0.0  0.0  0.0  0.0   \n",
       "\n",
       "         c9    ...          c79       c80       c81  c82       c83  c84  c85  \\\n",
       "0  0.000779    ...     0.078639 -0.121671 -0.007804  0.0 -0.261070  0.0  0.0   \n",
       "1 -0.003914    ...     0.006190  0.071016 -0.008752  0.0  0.072960  0.0  0.0   \n",
       "2  0.016245    ...    -0.022399 -0.015489 -0.025594  0.0  0.046554  0.0  0.0   \n",
       "3  0.006868    ...     0.004039 -0.086416 -0.002464  0.0  0.004583  0.0  0.0   \n",
       "4 -0.025400    ...    -0.056909  0.006886 -0.001491  0.0  0.082378  0.0  0.0   \n",
       "\n",
       "   c86       c87       c88  \n",
       "0  0.0 -0.002886 -0.999901  \n",
       "1  0.0 -0.043107  1.056089  \n",
       "2  0.0  0.322360  1.506708  \n",
       "3  0.0  0.022171  0.653286  \n",
       "4  0.0  0.005997 -0.309680  \n",
       "\n",
       "[5 rows x 89 columns]"
      ]
     },
     "execution_count": 13,
     "metadata": {},
     "output_type": "execute_result"
    }
   ],
   "source": [
    "test.head(5)"
   ]
  },
  {
   "cell_type": "code",
   "execution_count": 22,
   "metadata": {},
   "outputs": [
    {
     "data": {
      "text/plain": [
       "0    1\n",
       "1    0\n",
       "2    0\n",
       "3    0\n",
       "4    0\n",
       "Name: target, dtype: int64"
      ]
     },
     "execution_count": 22,
     "metadata": {},
     "output_type": "execute_result"
    }
   ],
   "source": [
    "(trainval.target).head(5)"
   ]
  },
  {
   "cell_type": "markdown",
   "metadata": {},
   "source": [
    "このときにデータに文字入っていたら除去したり、静数に変換してデータを整理する"
   ]
  },
  {
   "cell_type": "markdown",
   "metadata": {},
   "source": [
    "# 3 Model training"
   ]
  },
  {
   "cell_type": "markdown",
   "metadata": {},
   "source": [
    "学習する前に、誤差の割合を評価するために交差検証を使用する"
   ]
  },
  {
   "cell_type": "markdown",
   "metadata": {},
   "source": [
    "XGBoostはtrainingデータをtrainデータとvalidデータに分割していく"
   ]
  },
  {
   "cell_type": "markdown",
   "metadata": {},
   "source": [
    "# 4 Model understanding"
   ]
  },
  {
   "cell_type": "code",
   "execution_count": 23,
   "metadata": {
    "collapsed": true
   },
   "outputs": [],
   "source": [
    "TrainVal =pd.DataFrame(trainval)\n",
    "Test =pd.DataFrame(test)"
   ]
  },
  {
   "cell_type": "code",
   "execution_count": 24,
   "metadata": {},
   "outputs": [
    {
     "data": {
      "text/plain": [
       "Index(['data_id', 'period', 'c1', 'c2', 'c3', 'c4', 'c5', 'c6', 'c7', 'c8',\n",
       "       'c9', 'c10', 'c11', 'c12', 'c13', 'c14', 'c15', 'c16', 'c17', 'c18',\n",
       "       'c19', 'c20', 'c21', 'c22', 'c23', 'c24', 'c25', 'c26', 'c27', 'c28',\n",
       "       'c29', 'c30', 'c31', 'c32', 'c33', 'c34', 'c35', 'c36', 'c37', 'c38',\n",
       "       'c39', 'c40', 'c41', 'c42', 'c43', 'c44', 'c45', 'c46', 'c47', 'c48',\n",
       "       'c49', 'c50', 'c51', 'c52', 'c53', 'c54', 'c55', 'c56', 'c57', 'c58',\n",
       "       'c59', 'c60', 'c61', 'c62', 'c63', 'c64', 'c65', 'c66', 'c67', 'c68',\n",
       "       'c69', 'c70', 'c71', 'c72', 'c73', 'c74', 'c75', 'c76', 'c77', 'c78',\n",
       "       'c79', 'c80', 'c81', 'c82', 'c83', 'c84', 'c85', 'c86', 'c87', 'c88',\n",
       "       'target'],\n",
       "      dtype='object')"
      ]
     },
     "execution_count": 24,
     "metadata": {},
     "output_type": "execute_result"
    }
   ],
   "source": [
    "trainval.columns"
   ]
  },
  {
   "cell_type": "code",
   "execution_count": 27,
   "metadata": {
    "collapsed": true
   },
   "outputs": [],
   "source": [
    "feature_name = [ 'c1', 'c2', 'c3', 'c4', 'c5', 'c6', 'c7', 'c8',\n",
    "       'c9', 'c10', 'c11', 'c12', 'c13', 'c14', 'c15', 'c16', 'c17', 'c18',\n",
    "       'c19', 'c20', 'c21', 'c22', 'c23', 'c24', 'c25', 'c26', 'c27', 'c28',\n",
    "       'c29', 'c30', 'c31', 'c32', 'c33', 'c34', 'c35', 'c36', 'c37', 'c38',\n",
    "       'c39', 'c40', 'c41', 'c42', 'c43', 'c44', 'c45', 'c46', 'c47', 'c48',\n",
    "       'c49', 'c50', 'c51', 'c52', 'c53', 'c54', 'c55', 'c56', 'c57', 'c58',\n",
    "       'c59', 'c60', 'c61', 'c62', 'c63', 'c64', 'c65', 'c66', 'c67', 'c68',\n",
    "       'c69', 'c70', 'c71', 'c72', 'c73', 'c74', 'c75', 'c76', 'c77', 'c78',\n",
    "       'c79', 'c80', 'c81', 'c82', 'c83', 'c84', 'c85', 'c86', 'c87', 'c88']\n",
    "\n",
    "#特徴量選択"
   ]
  },
  {
   "cell_type": "code",
   "execution_count": 29,
   "metadata": {},
   "outputs": [
    {
     "name": "stdout",
     "output_type": "stream",
     "text": [
      "(560000, 88)\n"
     ]
    },
    {
     "data": {
      "text/html": [
       "<div>\n",
       "<style>\n",
       "    .dataframe thead tr:only-child th {\n",
       "        text-align: right;\n",
       "    }\n",
       "\n",
       "    .dataframe thead th {\n",
       "        text-align: left;\n",
       "    }\n",
       "\n",
       "    .dataframe tbody tr th {\n",
       "        vertical-align: top;\n",
       "    }\n",
       "</style>\n",
       "<table border=\"1\" class=\"dataframe\">\n",
       "  <thead>\n",
       "    <tr style=\"text-align: right;\">\n",
       "      <th></th>\n",
       "      <th>c1</th>\n",
       "      <th>c2</th>\n",
       "      <th>c3</th>\n",
       "      <th>c4</th>\n",
       "      <th>c5</th>\n",
       "      <th>c6</th>\n",
       "      <th>c7</th>\n",
       "      <th>c8</th>\n",
       "      <th>c9</th>\n",
       "      <th>c10</th>\n",
       "      <th>...</th>\n",
       "      <th>c79</th>\n",
       "      <th>c80</th>\n",
       "      <th>c81</th>\n",
       "      <th>c82</th>\n",
       "      <th>c83</th>\n",
       "      <th>c84</th>\n",
       "      <th>c85</th>\n",
       "      <th>c86</th>\n",
       "      <th>c87</th>\n",
       "      <th>c88</th>\n",
       "    </tr>\n",
       "  </thead>\n",
       "  <tbody>\n",
       "    <tr>\n",
       "      <th>0</th>\n",
       "      <td>0.655570</td>\n",
       "      <td>-0.000022</td>\n",
       "      <td>-0.000539</td>\n",
       "      <td>-0.001075</td>\n",
       "      <td>0.0</td>\n",
       "      <td>0.0</td>\n",
       "      <td>0.213390</td>\n",
       "      <td>0.0</td>\n",
       "      <td>0.009358</td>\n",
       "      <td>-0.0</td>\n",
       "      <td>...</td>\n",
       "      <td>-0.006942</td>\n",
       "      <td>-0.023358</td>\n",
       "      <td>-0.017041</td>\n",
       "      <td>0.0</td>\n",
       "      <td>0.060697</td>\n",
       "      <td>0.0</td>\n",
       "      <td>0.0</td>\n",
       "      <td>0.000000</td>\n",
       "      <td>-0.000202</td>\n",
       "      <td>-0.140220</td>\n",
       "    </tr>\n",
       "    <tr>\n",
       "      <th>1</th>\n",
       "      <td>1.646430</td>\n",
       "      <td>-0.000292</td>\n",
       "      <td>-0.008367</td>\n",
       "      <td>0.009497</td>\n",
       "      <td>0.0</td>\n",
       "      <td>0.0</td>\n",
       "      <td>0.000000</td>\n",
       "      <td>0.0</td>\n",
       "      <td>0.004118</td>\n",
       "      <td>-0.0</td>\n",
       "      <td>...</td>\n",
       "      <td>-0.053761</td>\n",
       "      <td>-0.059429</td>\n",
       "      <td>-0.009109</td>\n",
       "      <td>0.0</td>\n",
       "      <td>0.021645</td>\n",
       "      <td>0.0</td>\n",
       "      <td>0.0</td>\n",
       "      <td>0.000000</td>\n",
       "      <td>-0.004382</td>\n",
       "      <td>0.455767</td>\n",
       "    </tr>\n",
       "    <tr>\n",
       "      <th>2</th>\n",
       "      <td>-0.743010</td>\n",
       "      <td>0.004642</td>\n",
       "      <td>-0.000647</td>\n",
       "      <td>-0.003290</td>\n",
       "      <td>0.0</td>\n",
       "      <td>0.0</td>\n",
       "      <td>0.000000</td>\n",
       "      <td>0.0</td>\n",
       "      <td>-0.017536</td>\n",
       "      <td>-0.0</td>\n",
       "      <td>...</td>\n",
       "      <td>0.012014</td>\n",
       "      <td>0.001796</td>\n",
       "      <td>-0.000104</td>\n",
       "      <td>0.0</td>\n",
       "      <td>-0.024718</td>\n",
       "      <td>0.0</td>\n",
       "      <td>0.0</td>\n",
       "      <td>0.219566</td>\n",
       "      <td>0.072711</td>\n",
       "      <td>1.155580</td>\n",
       "    </tr>\n",
       "    <tr>\n",
       "      <th>3</th>\n",
       "      <td>0.029770</td>\n",
       "      <td>-0.006343</td>\n",
       "      <td>-0.000635</td>\n",
       "      <td>-0.002516</td>\n",
       "      <td>0.0</td>\n",
       "      <td>0.0</td>\n",
       "      <td>0.160313</td>\n",
       "      <td>0.0</td>\n",
       "      <td>-0.018105</td>\n",
       "      <td>-0.0</td>\n",
       "      <td>...</td>\n",
       "      <td>-0.002345</td>\n",
       "      <td>-0.005501</td>\n",
       "      <td>0.045308</td>\n",
       "      <td>0.0</td>\n",
       "      <td>-0.148852</td>\n",
       "      <td>0.0</td>\n",
       "      <td>0.0</td>\n",
       "      <td>0.000000</td>\n",
       "      <td>-0.101181</td>\n",
       "      <td>-0.954553</td>\n",
       "    </tr>\n",
       "    <tr>\n",
       "      <th>4</th>\n",
       "      <td>-0.660243</td>\n",
       "      <td>0.012591</td>\n",
       "      <td>-0.002098</td>\n",
       "      <td>-0.022264</td>\n",
       "      <td>0.0</td>\n",
       "      <td>0.0</td>\n",
       "      <td>0.000000</td>\n",
       "      <td>0.0</td>\n",
       "      <td>-0.004024</td>\n",
       "      <td>-0.0</td>\n",
       "      <td>...</td>\n",
       "      <td>0.008427</td>\n",
       "      <td>0.029034</td>\n",
       "      <td>-0.005847</td>\n",
       "      <td>0.0</td>\n",
       "      <td>-0.007073</td>\n",
       "      <td>0.0</td>\n",
       "      <td>0.0</td>\n",
       "      <td>0.000000</td>\n",
       "      <td>-0.004842</td>\n",
       "      <td>0.436002</td>\n",
       "    </tr>\n",
       "  </tbody>\n",
       "</table>\n",
       "<p>5 rows × 88 columns</p>\n",
       "</div>"
      ],
      "text/plain": [
       "         c1        c2        c3        c4   c5   c6        c7   c8        c9  \\\n",
       "0  0.655570 -0.000022 -0.000539 -0.001075  0.0  0.0  0.213390  0.0  0.009358   \n",
       "1  1.646430 -0.000292 -0.008367  0.009497  0.0  0.0  0.000000  0.0  0.004118   \n",
       "2 -0.743010  0.004642 -0.000647 -0.003290  0.0  0.0  0.000000  0.0 -0.017536   \n",
       "3  0.029770 -0.006343 -0.000635 -0.002516  0.0  0.0  0.160313  0.0 -0.018105   \n",
       "4 -0.660243  0.012591 -0.002098 -0.022264  0.0  0.0  0.000000  0.0 -0.004024   \n",
       "\n",
       "   c10    ...          c79       c80       c81  c82       c83  c84  c85  \\\n",
       "0 -0.0    ...    -0.006942 -0.023358 -0.017041  0.0  0.060697  0.0  0.0   \n",
       "1 -0.0    ...    -0.053761 -0.059429 -0.009109  0.0  0.021645  0.0  0.0   \n",
       "2 -0.0    ...     0.012014  0.001796 -0.000104  0.0 -0.024718  0.0  0.0   \n",
       "3 -0.0    ...    -0.002345 -0.005501  0.045308  0.0 -0.148852  0.0  0.0   \n",
       "4 -0.0    ...     0.008427  0.029034 -0.005847  0.0 -0.007073  0.0  0.0   \n",
       "\n",
       "        c86       c87       c88  \n",
       "0  0.000000 -0.000202 -0.140220  \n",
       "1  0.000000 -0.004382  0.455767  \n",
       "2  0.219566  0.072711  1.155580  \n",
       "3  0.000000 -0.101181 -0.954553  \n",
       "4  0.000000 -0.004842  0.436002  \n",
       "\n",
       "[5 rows x 88 columns]"
      ]
     },
     "execution_count": 29,
     "metadata": {},
     "output_type": "execute_result"
    }
   ],
   "source": [
    "feature = trainval[feature_name]\n",
    "y = trainval[\"target\"]\n",
    "print(feature.shape)\n",
    "feature.head()"
   ]
  },
  {
   "cell_type": "code",
   "execution_count": 44,
   "metadata": {},
   "outputs": [],
   "source": [
    "X_train, X_valid, y_train, y_valid = cross_validation.train_test_split(feature.values, y.values, test_size=0.2, random_state=0)\n",
    "dtrain = xgb.DMatrix(X_train, label=y_train, feature_names=feature_name)\n",
    "dvalid = xgb.DMatrix(X_valid, label=y_valid, feature_names = feature_name)\n",
    "watchlist = [(dtrain,\"train\"),(dvalid,\"valid\")]"
   ]
  },
  {
   "cell_type": "code",
   "execution_count": 45,
   "metadata": {},
   "outputs": [
    {
     "name": "stdout",
     "output_type": "stream",
     "text": [
      "(448000, 88)\n",
      "(112000, 88)\n",
      "(448000,)\n",
      "(112000,)\n"
     ]
    }
   ],
   "source": [
    "print(X_train.shape)\n",
    "print(X_valid.shape)\n",
    "print(y_train.shape)\n",
    "print(y_valid.shape)"
   ]
  },
  {
   "cell_type": "markdown",
   "metadata": {},
   "source": [
    "上記まで、データの整理　cross_validation.train_test_split"
   ]
  },
  {
   "cell_type": "markdown",
   "metadata": {},
   "source": [
    "xgboostパラメータ設定"
   ]
  },
  {
   "cell_type": "code",
   "execution_count": 46,
   "metadata": {
    "collapsed": true
   },
   "outputs": [],
   "source": [
    "xgb_pars = []\n",
    "\n",
    "MCWlist = [10, 20, 30,40,50]\n",
    "ETAlist =  [0.05,0.1,0.2,0.3]\n",
    "CSlist = [0.3,0.5,0.7]\n",
    "MDlist =  [6,7,8,9,10]\n",
    "SSlist = [0.5,0.7,0.9]\n",
    "LAMBDAlist = [0.5,0.6,0.7]\n",
    "\n",
    "#モデルの複雑さをコントロールするために\n",
    "#　 　−max_depth, min_child_weight,gamma\n",
    "#　・ノイズに対する堅牢さを高めるために\n",
    "#　　sub_sample, colsample_bytree"
   ]
  },
  {
   "cell_type": "code",
   "execution_count": 47,
   "metadata": {},
   "outputs": [
    {
     "name": "stdout",
     "output_type": "stream",
     "text": [
      "2700\n"
     ]
    }
   ],
   "source": [
    "for MCW in MCWlist:\n",
    "\n",
    "    for ETA in ETAlist:\n",
    "\n",
    "        for CS in CSlist:\n",
    "\n",
    "            for MD in MDlist:\n",
    "                for SS in SSlist:\n",
    "\n",
    "                    for LAMBDA in LAMBDAlist:\n",
    "\n",
    "                        xgb_pars.append({'min_child_weight': MCW, 'eta': ETA, \n",
    "\n",
    "                                         'colsample_bytree': CS, 'max_depth': MD,\n",
    "\n",
    "                                         'subsample': SS, 'lambda': LAMBDA, \n",
    "\n",
    "                                         'nthread': -1, 'booster' : 'gbtree', 'eval_metric': 'logloss',\n",
    "\n",
    "                                         'silent': 1, 'objective': 'binary:logistic'})\n",
    "patterns = len(MCWlist)*len(ETAlist)*len(CSlist)*len(MDlist)*len(SSlist)*len(LAMBDAlist)\n",
    "print(patterns)"
   ]
  },
  {
   "cell_type": "code",
   "execution_count": 86,
   "metadata": {},
   "outputs": [
    {
     "ename": "AttributeError",
     "evalue": "type object 'XGBClassifier' has no attribute 'cv'",
     "output_type": "error",
     "traceback": [
      "\u001b[1;31m---------------------------------------------------------------------------\u001b[0m",
      "\u001b[1;31mAttributeError\u001b[0m                            Traceback (most recent call last)",
      "\u001b[1;32m<ipython-input-86-edaba6f8a4d9>\u001b[0m in \u001b[0;36m<module>\u001b[1;34m()\u001b[0m\n\u001b[0;32m      1\u001b[0m \u001b[0mscores\u001b[0m \u001b[1;33m=\u001b[0m\u001b[1;33m[\u001b[0m\u001b[1;33m]\u001b[0m\u001b[1;33m\u001b[0m\u001b[0m\n\u001b[0;32m      2\u001b[0m \u001b[1;32mfor\u001b[0m \u001b[0mi\u001b[0m \u001b[1;32min\u001b[0m \u001b[0mrange\u001b[0m\u001b[1;33m(\u001b[0m\u001b[0mlen\u001b[0m\u001b[1;33m(\u001b[0m\u001b[0mxgb_pars\u001b[0m\u001b[1;33m)\u001b[0m\u001b[1;33m)\u001b[0m\u001b[1;33m:\u001b[0m\u001b[1;33m\u001b[0m\u001b[0m\n\u001b[1;32m----> 3\u001b[1;33m     res = model.cv(xgb_pars[i], dtrain, num_boost_round=1000,early_stopping_rounds=50,\n\u001b[0m\u001b[0;32m      4\u001b[0m                  nfold=5,metrics={'logloss'}, seed = 0,verbose_eval = None)\n\u001b[0;32m      5\u001b[0m     \u001b[0mscores\u001b[0m\u001b[1;33m.\u001b[0m\u001b[0mappend\u001b[0m\u001b[1;33m(\u001b[0m\u001b[0mres\u001b[0m\u001b[1;33m.\u001b[0m\u001b[0mloc\u001b[0m\u001b[1;33m[\u001b[0m\u001b[1;33m:\u001b[0m\u001b[1;33m,\u001b[0m\u001b[1;34m\"test-logless-mean\"\u001b[0m\u001b[1;33m]\u001b[0m\u001b[1;33m.\u001b[0m\u001b[0mmin\u001b[0m\u001b[1;33m(\u001b[0m\u001b[1;33m)\u001b[0m\u001b[1;33m)\u001b[0m\u001b[1;33m\u001b[0m\u001b[0m\n",
      "\u001b[1;31mAttributeError\u001b[0m: type object 'XGBClassifier' has no attribute 'cv'"
     ]
    }
   ],
   "source": [
    "scores =[]\n",
    "for i in range(len(xgb_pars)):\n",
    "    res = model.cv(xgb_pars[i], dtrain, num_boost_round=1000,early_stopping_rounds=50,\n",
    "                 nfold=5,metrics={'logloss'}, seed = 0,verbose_eval = None)\n",
    "    scores.append(res.loc[:,\"test-logloss-mean\"].min())\n",
    "    print(i/patterns)\n",
    "\n",
    "    \n",
    "print(\"____________________________________\")\n",
    "print(\"best score\")\n",
    "print(pd.Series(scores).min())\n",
    "print(\"best param\")\n",
    "print(xgb_pars[pd.Series(scores).argmin()])"
   ]
  },
  {
   "cell_type": "code",
   "execution_count": 51,
   "metadata": {
    "collapsed": true
   },
   "outputs": [],
   "source": [
    "xgb_pars = {'min_child_weight': 10, 'eta': 0.05, 'colsample_bytree': 0.3, 'max_depth': 6, 'subsample': 0.9, \n",
    "            'lambda': 0.6, 'nthread': -1, \n",
    "            'booster': 'gbtree', 'eval_metric': 'logloss', 'silent': 1, 'objective': 'binary:logistic'}"
   ]
  },
  {
   "cell_type": "code",
   "execution_count": 59,
   "metadata": {},
   "outputs": [
    {
     "name": "stdout",
     "output_type": "stream",
     "text": [
      "[0]\ttrain-logloss:0.692692\tvalid-logloss:0.692752\n",
      "Multiple eval metrics have been passed: 'valid-logloss' will be used for early stopping.\n",
      "\n",
      "Will train until valid-logloss hasn't improved in 50 rounds.\n",
      "[9]\ttrain-logloss:0.688488\tvalid-logloss:0.689003\n"
     ]
    }
   ],
   "source": [
    "bst = xgb.train(xgb_pars, dtrain, 10, watchlist, early_stopping_rounds=50,\n",
    "                  maximize=False, verbose_eval=10)"
   ]
  },
  {
   "cell_type": "code",
   "execution_count": 60,
   "metadata": {},
   "outputs": [
    {
     "data": {
      "text/plain": [
       "<matplotlib.axes._subplots.AxesSubplot at 0x3e0ebacbe0>"
      ]
     },
     "execution_count": 60,
     "metadata": {},
     "output_type": "execute_result"
    },
    {
     "data": {
      "image/png": "[encoded data removed]",
      "text/plain": [
       "<matplotlib.figure.Figure at 0x3e0ebf07f0>"
      ]
     },
     "metadata": {},
     "output_type": "display_data"
    }
   ],
   "source": [
    "%matplotlib inline\n",
    "fig, ax = plt.subplots(1,1,figsize=(7,25))\n",
    "xgb.plot_importance(bst,ax=ax)"
   ]
  },
  {
   "cell_type": "markdown",
   "metadata": {},
   "source": [
    "# 3 Predict"
   ]
  },
  {
   "cell_type": "code",
   "execution_count": 91,
   "metadata": {},
   "outputs": [
    {
     "name": "stdout",
     "output_type": "stream",
     "text": [
      "(112000,)\n"
     ]
    },
    {
     "data": {
      "text/plain": [
       "array([ 0.50609273,  0.48165104,  0.50415522, ...,  0.50249857,\n",
       "        0.44578329,  0.50345904], dtype=float32)"
      ]
     },
     "execution_count": 91,
     "metadata": {},
     "output_type": "execute_result"
    }
   ],
   "source": [
    "dfeature = xgb.DMatrix(feature.values, label=y.values, feature_names=feature_name)\n",
    "\n",
    "train_predict_proba = bst.predict(dvalid)\n",
    "print(train_predict_proba.shape)\n",
    "train_predict"
   ]
  },
  {
   "cell_type": "code",
   "execution_count": 92,
   "metadata": {},
   "outputs": [
    {
     "name": "stdout",
     "output_type": "stream",
     "text": [
      "(361500, 88)\n"
     ]
    },
    {
     "name": "stderr",
     "output_type": "stream",
     "text": [
      "Exception ignored in: <bound method DMatrix.__del__ of <xgboost.core.DMatrix object at 0x0000003E0F1E3DD8>>\n",
      "Traceback (most recent call last):\n",
      "  File \"C:\\Users\\Mustang8\\Anaconda3\\lib\\site-packages\\xgboost-0.6-py3.6.egg\\xgboost\\core.py\", line 360, in __del__\n",
      "    _check_call(_LIB.XGDMatrixFree(self.handle))\n",
      "AttributeError: 'DMatrix' object has no attribute 'handle'\n"
     ]
    },
    {
     "data": {
      "text/html": [
       "<div>\n",
       "<style>\n",
       "    .dataframe thead tr:only-child th {\n",
       "        text-align: right;\n",
       "    }\n",
       "\n",
       "    .dataframe thead th {\n",
       "        text-align: left;\n",
       "    }\n",
       "\n",
       "    .dataframe tbody tr th {\n",
       "        vertical-align: top;\n",
       "    }\n",
       "</style>\n",
       "<table border=\"1\" class=\"dataframe\">\n",
       "  <thead>\n",
       "    <tr style=\"text-align: right;\">\n",
       "      <th></th>\n",
       "      <th>c1</th>\n",
       "      <th>c2</th>\n",
       "      <th>c3</th>\n",
       "      <th>c4</th>\n",
       "      <th>c5</th>\n",
       "      <th>c6</th>\n",
       "      <th>c7</th>\n",
       "      <th>c8</th>\n",
       "      <th>c9</th>\n",
       "      <th>c10</th>\n",
       "      <th>...</th>\n",
       "      <th>c79</th>\n",
       "      <th>c80</th>\n",
       "      <th>c81</th>\n",
       "      <th>c82</th>\n",
       "      <th>c83</th>\n",
       "      <th>c84</th>\n",
       "      <th>c85</th>\n",
       "      <th>c86</th>\n",
       "      <th>c87</th>\n",
       "      <th>c88</th>\n",
       "    </tr>\n",
       "  </thead>\n",
       "  <tbody>\n",
       "    <tr>\n",
       "      <th>0</th>\n",
       "      <td>-0.336471</td>\n",
       "      <td>0.001629</td>\n",
       "      <td>-0.005328</td>\n",
       "      <td>0.337606</td>\n",
       "      <td>0.0</td>\n",
       "      <td>0.0</td>\n",
       "      <td>0.0</td>\n",
       "      <td>0.0</td>\n",
       "      <td>0.000779</td>\n",
       "      <td>-0.000000</td>\n",
       "      <td>...</td>\n",
       "      <td>0.078639</td>\n",
       "      <td>-0.121671</td>\n",
       "      <td>-0.007804</td>\n",
       "      <td>0.0</td>\n",
       "      <td>-0.261070</td>\n",
       "      <td>0.0</td>\n",
       "      <td>0.0</td>\n",
       "      <td>0.0</td>\n",
       "      <td>-0.002886</td>\n",
       "      <td>-0.999901</td>\n",
       "    </tr>\n",
       "    <tr>\n",
       "      <th>1</th>\n",
       "      <td>0.023397</td>\n",
       "      <td>0.010739</td>\n",
       "      <td>-0.035836</td>\n",
       "      <td>-0.017537</td>\n",
       "      <td>0.0</td>\n",
       "      <td>0.0</td>\n",
       "      <td>0.0</td>\n",
       "      <td>0.0</td>\n",
       "      <td>-0.003914</td>\n",
       "      <td>-0.656868</td>\n",
       "      <td>...</td>\n",
       "      <td>0.006190</td>\n",
       "      <td>0.071016</td>\n",
       "      <td>-0.008752</td>\n",
       "      <td>0.0</td>\n",
       "      <td>0.072960</td>\n",
       "      <td>0.0</td>\n",
       "      <td>0.0</td>\n",
       "      <td>0.0</td>\n",
       "      <td>-0.043107</td>\n",
       "      <td>1.056089</td>\n",
       "    </tr>\n",
       "    <tr>\n",
       "      <th>2</th>\n",
       "      <td>0.050958</td>\n",
       "      <td>0.012048</td>\n",
       "      <td>-0.004990</td>\n",
       "      <td>0.020966</td>\n",
       "      <td>-0.0</td>\n",
       "      <td>0.0</td>\n",
       "      <td>0.0</td>\n",
       "      <td>0.0</td>\n",
       "      <td>0.016245</td>\n",
       "      <td>-0.000000</td>\n",
       "      <td>...</td>\n",
       "      <td>-0.022399</td>\n",
       "      <td>-0.015489</td>\n",
       "      <td>-0.025594</td>\n",
       "      <td>0.0</td>\n",
       "      <td>0.046554</td>\n",
       "      <td>0.0</td>\n",
       "      <td>0.0</td>\n",
       "      <td>0.0</td>\n",
       "      <td>0.322360</td>\n",
       "      <td>1.506708</td>\n",
       "    </tr>\n",
       "    <tr>\n",
       "      <th>3</th>\n",
       "      <td>-0.123669</td>\n",
       "      <td>0.082726</td>\n",
       "      <td>-0.019575</td>\n",
       "      <td>0.000084</td>\n",
       "      <td>0.0</td>\n",
       "      <td>0.0</td>\n",
       "      <td>0.0</td>\n",
       "      <td>0.0</td>\n",
       "      <td>0.006868</td>\n",
       "      <td>-0.000000</td>\n",
       "      <td>...</td>\n",
       "      <td>0.004039</td>\n",
       "      <td>-0.086416</td>\n",
       "      <td>-0.002464</td>\n",
       "      <td>0.0</td>\n",
       "      <td>0.004583</td>\n",
       "      <td>0.0</td>\n",
       "      <td>0.0</td>\n",
       "      <td>0.0</td>\n",
       "      <td>0.022171</td>\n",
       "      <td>0.653286</td>\n",
       "    </tr>\n",
       "    <tr>\n",
       "      <th>4</th>\n",
       "      <td>1.596477</td>\n",
       "      <td>0.035155</td>\n",
       "      <td>-0.000731</td>\n",
       "      <td>0.028250</td>\n",
       "      <td>0.0</td>\n",
       "      <td>0.0</td>\n",
       "      <td>0.0</td>\n",
       "      <td>0.0</td>\n",
       "      <td>-0.025400</td>\n",
       "      <td>-0.000000</td>\n",
       "      <td>...</td>\n",
       "      <td>-0.056909</td>\n",
       "      <td>0.006886</td>\n",
       "      <td>-0.001491</td>\n",
       "      <td>0.0</td>\n",
       "      <td>0.082378</td>\n",
       "      <td>0.0</td>\n",
       "      <td>0.0</td>\n",
       "      <td>0.0</td>\n",
       "      <td>0.005997</td>\n",
       "      <td>-0.309680</td>\n",
       "    </tr>\n",
       "  </tbody>\n",
       "</table>\n",
       "<p>5 rows × 88 columns</p>\n",
       "</div>"
      ],
      "text/plain": [
       "         c1        c2        c3        c4   c5   c6   c7   c8        c9  \\\n",
       "0 -0.336471  0.001629 -0.005328  0.337606  0.0  0.0  0.0  0.0  0.000779   \n",
       "1  0.023397  0.010739 -0.035836 -0.017537  0.0  0.0  0.0  0.0 -0.003914   \n",
       "2  0.050958  0.012048 -0.004990  0.020966 -0.0  0.0  0.0  0.0  0.016245   \n",
       "3 -0.123669  0.082726 -0.019575  0.000084  0.0  0.0  0.0  0.0  0.006868   \n",
       "4  1.596477  0.035155 -0.000731  0.028250  0.0  0.0  0.0  0.0 -0.025400   \n",
       "\n",
       "        c10    ...          c79       c80       c81  c82       c83  c84  c85  \\\n",
       "0 -0.000000    ...     0.078639 -0.121671 -0.007804  0.0 -0.261070  0.0  0.0   \n",
       "1 -0.656868    ...     0.006190  0.071016 -0.008752  0.0  0.072960  0.0  0.0   \n",
       "2 -0.000000    ...    -0.022399 -0.015489 -0.025594  0.0  0.046554  0.0  0.0   \n",
       "3 -0.000000    ...     0.004039 -0.086416 -0.002464  0.0  0.004583  0.0  0.0   \n",
       "4 -0.000000    ...    -0.056909  0.006886 -0.001491  0.0  0.082378  0.0  0.0   \n",
       "\n",
       "   c86       c87       c88  \n",
       "0  0.0 -0.002886 -0.999901  \n",
       "1  0.0 -0.043107  1.056089  \n",
       "2  0.0  0.322360  1.506708  \n",
       "3  0.0  0.022171  0.653286  \n",
       "4  0.0  0.005997 -0.309680  \n",
       "\n",
       "[5 rows x 88 columns]"
      ]
     },
     "execution_count": 92,
     "metadata": {},
     "output_type": "execute_result"
    }
   ],
   "source": [
    "test_feature = test[feature_name]\n",
    "print(test_feature.shape)\n",
    "test_feature.head()"
   ]
  },
  {
   "cell_type": "code",
   "execution_count": 94,
   "metadata": {},
   "outputs": [
    {
     "name": "stdout",
     "output_type": "stream",
     "text": [
      "(361500,)\n"
     ]
    },
    {
     "data": {
      "text/plain": [
       "array([ 0.48560041,  0.50397629,  0.50246352, ...,  0.50462013,\n",
       "        0.50115353,  0.49429619], dtype=float32)"
      ]
     },
     "execution_count": 94,
     "metadata": {},
     "output_type": "execute_result"
    }
   ],
   "source": [
    "dtest = xgb.DMatrix(test_feature.values,feature_names=feature_name)\n",
    "test_predict =bst.predict(dtest)\n",
    "print(test_predict.shape)\n",
    "test_predict"
   ]
  },
  {
   "cell_type": "code",
   "execution_count": 113,
   "metadata": {},
   "outputs": [],
   "source": [
    "Predict =pd.DataFrame(test_predict)"
   ]
  },
  {
   "cell_type": "code",
   "execution_count": 121,
   "metadata": {},
   "outputs": [],
   "source": [
    "predict = pd.concat((Test.data_id,Predict),axis =1)"
   ]
  },
  {
   "cell_type": "code",
   "execution_count": 123,
   "metadata": {
    "scrolled": true
   },
   "outputs": [
    {
     "name": "stdout",
     "output_type": "stream",
     "text": [
      "(361500, 2)\n"
     ]
    },
    {
     "data": {
      "text/html": [
       "<div>\n",
       "<style>\n",
       "    .dataframe thead tr:only-child th {\n",
       "        text-align: right;\n",
       "    }\n",
       "\n",
       "    .dataframe thead th {\n",
       "        text-align: left;\n",
       "    }\n",
       "\n",
       "    .dataframe tbody tr th {\n",
       "        vertical-align: top;\n",
       "    }\n",
       "</style>\n",
       "<table border=\"1\" class=\"dataframe\">\n",
       "  <thead>\n",
       "    <tr style=\"text-align: right;\">\n",
       "      <th></th>\n",
       "      <th>data_id</th>\n",
       "      <th>0</th>\n",
       "    </tr>\n",
       "  </thead>\n",
       "  <tbody>\n",
       "    <tr>\n",
       "      <th>0</th>\n",
       "      <td>1466096</td>\n",
       "      <td>0.485600</td>\n",
       "    </tr>\n",
       "    <tr>\n",
       "      <th>1</th>\n",
       "      <td>1466102</td>\n",
       "      <td>0.503976</td>\n",
       "    </tr>\n",
       "    <tr>\n",
       "      <th>2</th>\n",
       "      <td>1466110</td>\n",
       "      <td>0.502464</td>\n",
       "    </tr>\n",
       "    <tr>\n",
       "      <th>3</th>\n",
       "      <td>1466113</td>\n",
       "      <td>0.502791</td>\n",
       "    </tr>\n",
       "    <tr>\n",
       "      <th>4</th>\n",
       "      <td>1466115</td>\n",
       "      <td>0.500656</td>\n",
       "    </tr>\n",
       "  </tbody>\n",
       "</table>\n",
       "</div>"
      ],
      "text/plain": [
       "   data_id         0\n",
       "0  1466096  0.485600\n",
       "1  1466102  0.503976\n",
       "2  1466110  0.502464\n",
       "3  1466113  0.502791\n",
       "4  1466115  0.500656"
      ]
     },
     "execution_count": 123,
     "metadata": {},
     "output_type": "execute_result"
    }
   ],
   "source": [
    "predict = predict.reset_index(drop=True).copy()\n",
    "print(predict.shape)\n",
    "predict.head()"
   ]
  },
  {
   "cell_type": "code",
   "execution_count": 125,
   "metadata": {
    "collapsed": true
   },
   "outputs": [],
   "source": [
    "predict.to_csv(\"submission.csv\",header=None,index=None)"
   ]
  }
 ],
 "metadata": {
  "kernelspec": {
   "display_name": "Python 3",
   "language": "python",
   "name": "python3"
  },
  "language_info": {
   "codemirror_mode": {
    "name": "ipython",
    "version": 3
   },
   "file_extension": ".py",
   "mimetype": "text/x-python",
   "name": "python",
   "nbconvert_exporter": "python",
   "pygments_lexer": "ipython3",
   "version": "3.6.1"
  }
 },
 "nbformat": 4,
 "nbformat_minor": 2
}
